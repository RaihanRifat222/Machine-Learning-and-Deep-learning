{
  "nbformat": 4,
  "nbformat_minor": 0,
  "metadata": {
    "colab": {
      "provenance": []
    },
    "kernelspec": {
      "name": "python3",
      "display_name": "Python 3"
    },
    "language_info": {
      "name": "python"
    }
  },
  "cells": [
    {
      "cell_type": "code",
      "execution_count": 12,
      "metadata": {
        "id": "s7hEIYH9mjAb"
      },
      "outputs": [],
      "source": []
    },
    {
      "cell_type": "markdown",
      "source": [
        "## K nearest neighbor is a lazy learning model. We do not build a model at all. This is a non parametric model, so no parametres are needed to be calculated. FOr less features, we use euclidean distance. For more features, we use manhattan distance.\n",
        "\n",
        "## If K is too small, outlier has a huge impact on the model. This causes overfitting.\n",
        "\n",
        "## If k is too large, it causes underfitting. Because, the classifier predicts the majority class regardless of which neighnbors are nearest.\n"
      ],
      "metadata": {
        "id": "NFdOhwHvm0hW"
      }
    },
    {
      "cell_type": "code",
      "source": [
        "import numpy as np\n",
        "from matplotlib import pyplot as plt\n",
        "from sklearn.neighbors import KNeighborsClassifier\n",
        "from sklearn.model_selection import train_test_split\n",
        "from sklearn.metrics import confusion_matrix\n",
        "from sklearn.metrics import accuracy_score\n",
        "from sklearn import preprocessing\n",
        "import pandas as pd\n",
        "from sklearn.model_selection import cross_val_score, cross_validate"
      ],
      "metadata": {
        "id": "7ephPawmsAAG"
      },
      "execution_count": 13,
      "outputs": []
    },
    {
      "cell_type": "code",
      "source": [
        "data = pd.read_csv('/content/credit_data.csv')\n",
        "features = data[['income', 'age', 'loan']]\n",
        "target = data.default"
      ],
      "metadata": {
        "id": "FGK2wAbAPQK2"
      },
      "execution_count": 14,
      "outputs": []
    },
    {
      "cell_type": "code",
      "source": [
        "X = np.array(features).reshape(-1,3)\n",
        "y = np.array(target)"
      ],
      "metadata": {
        "id": "0U9aLAHusejJ"
      },
      "execution_count": 15,
      "outputs": []
    },
    {
      "cell_type": "code",
      "source": [
        "X"
      ],
      "metadata": {
        "colab": {
          "base_uri": "https://localhost:8080/"
        },
        "id": "i--AF-drsl8j",
        "outputId": "f5d347c5-4be7-4ee8-949c-c66ecf2df7f6"
      },
      "execution_count": 16,
      "outputs": [
        {
          "output_type": "execute_result",
          "data": {
            "text/plain": [
              "array([[6.61559251e+04, 5.90170151e+01, 8.10653213e+03],\n",
              "       [3.44151540e+04, 4.81171531e+01, 6.56474502e+03],\n",
              "       [5.73171701e+04, 6.31080495e+01, 8.02095330e+03],\n",
              "       ...,\n",
              "       [4.43114493e+04, 2.80171669e+01, 5.52278669e+03],\n",
              "       [4.37560566e+04, 6.39717958e+01, 1.62272260e+03],\n",
              "       [6.94365796e+04, 5.61526170e+01, 7.37883360e+03]])"
            ]
          },
          "metadata": {},
          "execution_count": 16
        }
      ]
    },
    {
      "cell_type": "code",
      "source": [
        "y"
      ],
      "metadata": {
        "colab": {
          "base_uri": "https://localhost:8080/"
        },
        "id": "5Wq_UXDHsuSG",
        "outputId": "ac85b913-44b5-4714-9d19-a0d17aed9f3e"
      },
      "execution_count": 17,
      "outputs": [
        {
          "output_type": "execute_result",
          "data": {
            "text/plain": [
              "array([0, 0, 0, ..., 1, 0, 0])"
            ]
          },
          "metadata": {},
          "execution_count": 17
        }
      ]
    },
    {
      "cell_type": "markdown",
      "source": [
        "## We will do Mini Max Normalization on the X. For KNN, Min Max normalization works well."
      ],
      "metadata": {
        "id": "j7P9P3H_tGwT"
      }
    },
    {
      "cell_type": "code",
      "source": [
        "X = preprocessing.MinMaxScaler().fit_transform(X)\n",
        "X"
      ],
      "metadata": {
        "colab": {
          "base_uri": "https://localhost:8080/"
        },
        "id": "417Uo5kksukp",
        "outputId": "dc827f83-891b-4966-ab4b-bc94db297703"
      },
      "execution_count": 18,
      "outputs": [
        {
          "output_type": "execute_result",
          "data": {
            "text/plain": [
              "array([[0.9231759 , 0.89209175, 0.58883739],\n",
              "       [0.28812165, 0.65470788, 0.47682695],\n",
              "       [0.74633429, 0.9811888 , 0.58262011],\n",
              "       ...,\n",
              "       [0.48612202, 0.21695807, 0.40112895],\n",
              "       [0.47500998, 1.        , 0.1177903 ],\n",
              "       [0.98881367, 0.82970913, 0.53597028]])"
            ]
          },
          "metadata": {},
          "execution_count": 18
        }
      ]
    },
    {
      "cell_type": "code",
      "source": [
        "trainX, testX, trainY, testY = train_test_split(X, y, test_size=0.3)\n",
        "\n",
        "model = KNeighborsClassifier(n_neighbors=20)\n",
        "\n",
        "model.fit(trainX, trainY)\n",
        "\n",
        "predicted = model.predict(testX)\n"
      ],
      "metadata": {
        "id": "KI1vqj-ys-C0"
      },
      "execution_count": 19,
      "outputs": []
    },
    {
      "cell_type": "code",
      "source": [
        "confusion_matrix(testY, predicted)"
      ],
      "metadata": {
        "colab": {
          "base_uri": "https://localhost:8080/"
        },
        "id": "m-Fp4OzzTn29",
        "outputId": "230874b2-c705-44dd-8cb3-3c1355853d8d"
      },
      "execution_count": 20,
      "outputs": [
        {
          "output_type": "execute_result",
          "data": {
            "text/plain": [
              "array([[508,   4],\n",
              "       [ 15,  73]])"
            ]
          },
          "metadata": {},
          "execution_count": 20
        }
      ]
    },
    {
      "cell_type": "code",
      "source": [
        "accuracy_score(testY, predicted)"
      ],
      "metadata": {
        "colab": {
          "base_uri": "https://localhost:8080/"
        },
        "id": "DqcgHCglUEZ-",
        "outputId": "2f4078c3-ac02-4f49-be25-04a4179a736a"
      },
      "execution_count": 21,
      "outputs": [
        {
          "output_type": "execute_result",
          "data": {
            "text/plain": [
              "0.9683333333333334"
            ]
          },
          "metadata": {},
          "execution_count": 21
        }
      ]
    },
    {
      "cell_type": "markdown",
      "source": [
        "## The accuracy is high because we used Mini Max transformation. If we did not use mini max transfornmation, our accuracy would have been somewhere near 85%."
      ],
      "metadata": {
        "id": "Bx6bmR1hVLXp"
      }
    },
    {
      "cell_type": "code",
      "source": [
        "cross_valid_scores = []\n",
        "for k in range(1,100):\n",
        "  knn = KNeighborsClassifier(n_neighbors = k)\n",
        "  scores = cross_val_score(knn, X, y, cv = 10, scoring = 'accuracy')\n",
        "  cross_valid_scores.append(scores.mean())\n",
        "\n",
        "print('Optimal K with cross-validation: ', np.argmax(cross_valid_scores))\n"
      ],
      "metadata": {
        "colab": {
          "base_uri": "https://localhost:8080/"
        },
        "id": "A3U6psekUOBi",
        "outputId": "014d5517-603c-4156-cfe9-4d157e5b0fc3"
      },
      "execution_count": 22,
      "outputs": [
        {
          "output_type": "stream",
          "name": "stdout",
          "text": [
            "Optimal K with cross-validation:  32\n"
          ]
        }
      ]
    },
    {
      "cell_type": "code",
      "source": [
        "trainX, testX, trainY, testY = train_test_split(X, y, test_size=0.3)\n",
        "\n",
        "model = KNeighborsClassifier(n_neighbors=32)\n",
        "\n",
        "model.fit(trainX, trainY)\n",
        "\n",
        "predicted = model.predict(testX)\n",
        "\n",
        "confusion_matrix(testY, predicted)\n",
        "accuracy_score(testY, predicted)"
      ],
      "metadata": {
        "colab": {
          "base_uri": "https://localhost:8080/"
        },
        "id": "wfL2ZpERJKEM",
        "outputId": "246a08fc-11fa-4381-8eed-cfa3b86615d5"
      },
      "execution_count": 23,
      "outputs": [
        {
          "output_type": "execute_result",
          "data": {
            "text/plain": [
              "0.9683333333333334"
            ]
          },
          "metadata": {},
          "execution_count": 23
        }
      ]
    },
    {
      "cell_type": "code",
      "source": [],
      "metadata": {
        "id": "W3SDCcKTJLlN"
      },
      "execution_count": 23,
      "outputs": []
    }
  ]
}